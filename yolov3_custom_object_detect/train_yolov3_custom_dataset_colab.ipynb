{
  "nbformat": 4,
  "nbformat_minor": 0,
  "metadata": {
    "colab": {
      "name": "train_yolov3_custom_dataset_colab.ipynb",
      "provenance": []
    },
    "kernelspec": {
      "name": "python3",
      "display_name": "Python 3"
    },
    "language_info": {
      "name": "python"
    }
  },
  "cells": [
    {
      "cell_type": "code",
      "metadata": {
        "id": "wKhl6riT8jTe"
      },
      "source": [
        "# Original tutorial: https://youtu.be/DLngCtsG3bk\n",
        "\n",
        "# Step 2 - Train Dataset:\n",
        "# Create a folder called 'yolov3' in Google Drive.\n",
        "# Add 'images.zip' to the yolov3 folder.\n",
        "# File names should be as shown, case sensative."
      ],
      "execution_count": null,
      "outputs": []
    },
    {
      "cell_type": "code",
      "metadata": {
        "id": "bzZ3YIBr8oLO"
      },
      "source": [
        "# Make sure Google Colab GPU is enabled for optimal training.\n",
        "!nvidia-smi"
      ],
      "execution_count": null,
      "outputs": []
    },
    {
      "cell_type": "code",
      "metadata": {
        "id": "mVLKxMxl8rMU"
      },
      "source": [
        "# Mount Google Drive.\n",
        "from google.colab import drive\n",
        "drive.mount('/content/gdrive')"
      ],
      "execution_count": null,
      "outputs": []
    },
    {
      "cell_type": "code",
      "metadata": {
        "id": "HatHVsI48s9Q"
      },
      "source": [
        "# Create symbolic Google Drive link and list contents of drive.\n",
        "!ln -s /content/gdrive/My\\ Drive/ /mydrive\n",
        "!ls /mydrive"
      ],
      "execution_count": null,
      "outputs": []
    },
    {
      "cell_type": "code",
      "metadata": {
        "id": "02lEucfi8w11"
      },
      "source": [
        "# Clone the darknet Github repository.\n",
        "!git clone https://github.com/AlexeyAB/darknet"
      ],
      "execution_count": null,
      "outputs": []
    },
    {
      "cell_type": "code",
      "metadata": {
        "id": "gIgWumqa8zJV"
      },
      "source": [
        "# Change directory to darknet and make adjustments to the Makefile.\n",
        "# We are enabling OPENCV, GPU AND CUDNN inside of the Makefile. \n",
        "%cd darknet\n",
        "!sed -i 's/OPENCV=0/OPENCV=1/' Makefile\n",
        "!sed -i 's/GPU=0/GPU=1/' Makefile\n",
        "!sed -i 's/CUDNN=0/CUDNN=1/' Makefile"
      ],
      "execution_count": null,
      "outputs": []
    },
    {
      "cell_type": "code",
      "metadata": {
        "id": "kSOXSPA181Fp"
      },
      "source": [
        "# Compile the file.\n",
        "!make"
      ],
      "execution_count": null,
      "outputs": []
    },
    {
      "cell_type": "code",
      "metadata": {
        "id": "T1_4vmMj82vP"
      },
      "source": [
        "# Make a copy of the yolov3.cfg file to make adjustments\n",
        "!cp cfg/yolov3.cfg cfg/yolov3_training.cfg"
      ],
      "execution_count": null,
      "outputs": []
    },
    {
      "cell_type": "code",
      "metadata": {
        "id": "6N2BUWyj83IY"
      },
      "source": [
        "# Change max_batches, classes, and filters according to the # of classes\n",
        "# batch = 64 means that 64 images will be used in each training step\n",
        "# subdivisions = 16 is (batches / subdivisions) used to decreased GPU VRAM req.\n",
        "# max batches formula = num_classes * 2000\n",
        "# classes formula = num_classes * 1\n",
        "# filters formula = (num_classes + 5) * 3\n",
        "# These changes are being made inside of the new .cfg file.\n",
        "!sed -i 's/batch=1/batch=64/' cfg/yolov3_training.cfg\n",
        "!sed -i 's/subdivisions=1/subdivisions=16/' cfg/yolov3_training.cfg\n",
        "!sed -i 's/max_batches = 500200/max_batches = 10000/' cfg/yolov3_training.cfg\n",
        "!sed -i '610 s@classes=80@classes=5@' cfg/yolov3_training.cfg\n",
        "!sed -i '696 s@classes=80@classes=5@' cfg/yolov3_training.cfg\n",
        "!sed -i '783 s@classes=80@classes=5@' cfg/yolov3_training.cfg\n",
        "!sed -i '603 s@filters=255@filters=30@' cfg/yolov3_training.cfg\n",
        "!sed -i '689 s@filters=255@filters=30@' cfg/yolov3_training.cfg\n",
        "!sed -i '776 s@filters=255@filters=30@' cfg/yolov3_training.cfg"
      ],
      "execution_count": null,
      "outputs": []
    },
    {
      "cell_type": "code",
      "metadata": {
        "id": "_k7Gy0kM84XQ"
      },
      "source": [
        "# Create a .names and .data file for training.\n",
        "# !echo -e command allows us to set the class names and number of classes \n",
        "# inside of each of the respective files. \n",
        "!echo -e 'Bulbasaur\\nSquirtle\\nCharmander\\nPikachu\\nGengar' > data/obj.names\n",
        "!echo -e 'classes= 5\\ntrain  = data/train.txt\\nvalid  = data/test.txt\\nnames = data/obj.names\\nbackup = /mydrive/yolov3' > data/obj.data"
      ],
      "execution_count": null,
      "outputs": []
    },
    {
      "cell_type": "code",
      "metadata": {
        "id": "c-Iyzm5j85s7"
      },
      "source": [
        "# Copies and saves the .cfg and obj.names files into Google drive\n",
        "!cp cfg/yolov3_training.cfg /mydrive/yolov3/yolov3_testing.cfg\n",
        "!cp data/obj.names /mydrive/yolov3/classes.txt"
      ],
      "execution_count": null,
      "outputs": []
    },
    {
      "cell_type": "code",
      "metadata": {
        "id": "U2umq75H86nj"
      },
      "source": [
        "# Create a directory called data/obj and copy the contents of the zip folder.\n",
        "# Refer to comment one if facing any issues. Check file names\n",
        "!mkdir data/obj\n",
        "!unzip /mydrive/yolov3/images.zip -d data/obj"
      ],
      "execution_count": null,
      "outputs": []
    },
    {
      "cell_type": "code",
      "metadata": {
        "id": "umQYDYGm89Cg"
      },
      "source": [
        "# Create text training file.\n",
        "# Make sure image format is the same for all images.\n",
        "import glob\n",
        "images_list = glob.glob(\"data/obj/*.png\")\n",
        "with open(\"data/train.txt\", \"w\") as f:\n",
        "    f.write(\"\\n\".join(images_list))"
      ],
      "execution_count": null,
      "outputs": []
    },
    {
      "cell_type": "code",
      "metadata": {
        "id": "NDsfEEtU89hi"
      },
      "source": [
        "# Download the darnet53.conv.74 pretrained yolo weights for training the dataset.\n",
        "!wget https://pjreddie.com/media/files/darknet53.conv.74"
      ],
      "execution_count": null,
      "outputs": []
    },
    {
      "cell_type": "code",
      "metadata": {
        "id": "6RaeI7TqRbmB"
      },
      "source": [
        "# Before training, open your console with CTRL-SHIFT-I and enter this command:\n",
        "#function ConnectButton(){\n",
        "#    console.log(\"Connect pushed\"); \n",
        "#    document.querySelector(\"#top-toolbar > colab-connect-button\").shadowRoot.querySelector(\"#connect\").click() \n",
        "#}\n",
        "#setInterval(ConnectButton,60000);\n",
        "# This ensures that you do not disconnect from Google Colab. \n",
        "# Output should be backed up to drive but I like to run it anyways. "
      ],
      "execution_count": null,
      "outputs": []
    },
    {
      "cell_type": "code",
      "metadata": {
        "id": "4yTAWz0Y9Aby"
      },
      "source": [
        "# Start training the yolov3 custom dataset.\n",
        "!./darknet detector train data/obj.data cfg/yolov3_training.cfg darknet53.conv.74 -dont_show"
      ],
      "execution_count": null,
      "outputs": []
    },
    {
      "cell_type": "code",
      "metadata": {
        "id": "xRKrmdl49ChL"
      },
      "source": [
        "# Uncomment and run this command to retrain the data set upon the last saved weights.\n",
        "#!./darknet detector train data/obj.data cfg/yolov3_training.cfg /mydrive/yolov3/yolov3_training_last.weights -dont_show"
      ],
      "execution_count": null,
      "outputs": []
    },
    {
      "cell_type": "code",
      "metadata": {
        "id": "lunLclLcWbMx"
      },
      "source": [
        "# Download the best or last .weights file and the yolov3_custom.cfg file from Google drive\n",
        "# Proceed to the main python file for step 3."
      ],
      "execution_count": null,
      "outputs": []
    }
  ]
}